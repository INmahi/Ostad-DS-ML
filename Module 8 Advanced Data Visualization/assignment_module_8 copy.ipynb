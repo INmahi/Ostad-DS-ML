{
 "cells": [
  {
   "cell_type": "markdown",
   "id": "0bcf4fae",
   "metadata": {},
   "source": [
    "<span style=\"color:#2E86C1; font-size:1.5em; font-weight:500;\">\n",
    "Module 8 Assignment<br>\n",
    "Done by IShat Noor Mahi\n",
    "</span>\n"
   ]
  },
  {
   "cell_type": "markdown",
   "id": "7405a421",
   "metadata": {},
   "source": [
    "Data Visualization_Assignment_mod 8\n",
    "Problem_01: Use the Bollywood Dataset to Answer Questions 1 to 12. \n",
    "\n",
    "The data file bollywood.csv contains box office collection and social media promotion information about  movies released in 2013−2015 period. Following are the columns and their descriptions. ▪ SlNo – Release Date \n",
    "\n",
    "▪ MovieName – Name of the movie \n",
    "\n",
    "▪ ReleaseTime – Mentions special time of release. LW (Long weekend), FS (Festive Season), HS (Holiday Season), N (Normal) \n",
    "\n",
    "▪ Genre – Genre of the film such as Romance, Thriller, Action, Comedy, etc. \n",
    "\n",
    "▪ Budget – Movie creation budget \n",
    "\n",
    "▪ BoxOfficeCollection – Box office collection \n",
    "\n",
    "▪ YoutubeViews – Number of views of the YouTube trailers \n",
    "\n",
    "▪ YoutubeLikes – Number of likes of the YouTube trailers \n",
    "\n",
    "▪ YoutubeDislikes – Number of dislikes of the YouTube trailers \n",
    "\n",
    "Use Python code to answer the following questions: \n",
    "\n",
    "1. How many records are present in the dataset? Print the metadata information of the dataset.\n",
    "\n",
    "2. How many movies got released in each genre? Which genre had highest number of releases? Sort number of releases in each genre in descending order. \n",
    "\n",
    "3. How many movies in each genre got released in different release times like long weekend, festive season, etc. (Note: Do a cross tabulation between Genre and ReleaseTime.) \n",
    "\n",
    "4. Which month of the year, maximum number movie releases are seen? (Note: Extract a new column called month from ReleaseDate column.) \n",
    "\n",
    "5. Which month of the year typically sees most releases of high budgeted movies, that is, movies with budget of 25 crore or more? \n",
    "\n",
    "6. Which are the top 10 movies with maximum return on investment (ROI)? Calculate return on investment (ROI) as (BoxOfficeCollection – Budget) / Budget. \n",
    "\n",
    "7. Do the movies have higher ROI if they get released on festive seasons or long weekend? Calculate the  average ROI for different release times. \n",
    "\n",
    "8. Draw a histogram and a distribution plot to find out the distribution of movie budgets. Interpret the plot  to conclude if the most movies are high or low budgeted movies. \n",
    "\n",
    "9. Compare the distribution of ROIs between movies with comedy genre and drama. Which genre typically sees higher ROIs? \n",
    "\n",
    "10. Is there a correlation between box office collection and YouTube likes? Is the correlation positive or negative? \n",
    "\n",
    "11. Which genre of movies typically sees more YouTube likes? Draw boxplots for each genre of movies to compare. \n",
    "\n",
    "12. Which of the variables among Budget, BoxOfficeCollection, YoutubeView, YoutubeLikes, YoutubeDislikes are highly correlated? Note: Draw pair plot or"
   ]
  },
  {
   "cell_type": "code",
   "execution_count": 3,
   "id": "b94fb2c4",
   "metadata": {},
   "outputs": [],
   "source": [
    "import numpy as np\n",
    "import pandas as pd\n",
    "import matplotlib.pyplot as plt\n",
    "import seaborn as sns "
   ]
  },
  {
   "cell_type": "code",
   "execution_count": 4,
   "id": "83015564",
   "metadata": {},
   "outputs": [],
   "source": [
    "file_path = 'bollywood.csv'"
   ]
  },
  {
   "cell_type": "code",
   "execution_count": 5,
   "id": "3941969c",
   "metadata": {},
   "outputs": [
    {
     "name": "stdout",
     "output_type": "stream",
     "text": [
      "   SlNo Release Date           MovieName ReleaseTime     Genre  Budget  \\\n",
      "0     1    18-Apr-14            2 States          LW   Romance      36   \n",
      "1     2     4-Jan-13        Table No. 21           N  Thriller      10   \n",
      "2     3    18-Jul-14  Amit Sahni Ki List           N    Comedy      10   \n",
      "3     4     4-Jan-13    Rajdhani Express           N     Drama       7   \n",
      "4     5     4-Jul-14        Bobby Jasoos           N    Comedy      18   \n",
      "5     6    30-May-14          Citylights          HS     Drama       7   \n",
      "\n",
      "   BoxOfficeCollection  YoutubeViews  YoutubeLikes  YoutubeDislikes  \n",
      "0               104.00       8576361         26622             2527  \n",
      "1                12.00       1087320          1129              137  \n",
      "2                 4.00        572336           586               54  \n",
      "3                 0.35         42626            86               19  \n",
      "4                10.80       3113427          4512             1224  \n",
      "5                35.00       1076591          1806               84  \n"
     ]
    }
   ],
   "source": [
    "df = pd.read_csv(file_path)\n",
    "print(df.head(6))"
   ]
  },
  {
   "cell_type": "code",
   "execution_count": 8,
   "id": "6094938b",
   "metadata": {},
   "outputs": [
    {
     "name": "stdout",
     "output_type": "stream",
     "text": [
      "Genre\n",
      "Comedy      36\n",
      "Drama       35\n",
      "Thriller    29\n",
      "Romance     25\n",
      "Action      24\n",
      "Name: count, dtype: int64\n",
      "The genre with the highest number of releases is: Comedy (36 releases)\n",
      "Genre\n",
      "Comedy      36\n",
      "Drama       35\n",
      "Thriller    29\n",
      "Romance     25\n",
      "Action      24\n",
      "Name: count, dtype: int64\n"
     ]
    }
   ],
   "source": [
    "genre_counts = df['Genre'].value_counts()\n",
    "print(genre_counts)\n",
    "highest_genre = genre_counts.idxmax()\n",
    "print(f\"The genre with the highest number of releases is: {highest_genre} ({genre_counts.max()} releases)\")\n",
    "\n",
    "genre_counts_sorted = genre_counts.sort_values(ascending=False)\n",
    "print(genre_counts_sorted)"
   ]
  },
  {
   "cell_type": "code",
   "execution_count": 9,
   "id": "309d1ccd",
   "metadata": {},
   "outputs": [
    {
     "name": "stdout",
     "output_type": "stream",
     "text": [
      "ReleaseTime  FS  HS  LW   N\n",
      "Genre                      \n",
      "Action        3   3   3  15\n",
      "Comedy        3   5   5  23\n",
      "Drama         4   6   1  24\n",
      "Romance       3   3   4  15\n",
      "Thriller      4   1   2  22\n"
     ]
    }
   ],
   "source": [
    "# Cross tabulation between Genre and ReleaseTime\n",
    "genre_release_crosstab = pd.crosstab(df['Genre'], df['ReleaseTime'])\n",
    "print(genre_release_crosstab)"
   ]
  }
 ],
 "metadata": {
  "kernelspec": {
   "display_name": "Python (venv)",
   "language": "python",
   "name": "venv"
  },
  "language_info": {
   "codemirror_mode": {
    "name": "ipython",
    "version": 3
   },
   "file_extension": ".py",
   "mimetype": "text/x-python",
   "name": "python",
   "nbconvert_exporter": "python",
   "pygments_lexer": "ipython3",
   "version": "3.13.3"
  }
 },
 "nbformat": 4,
 "nbformat_minor": 5
}
